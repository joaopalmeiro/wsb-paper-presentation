{
 "cells": [
  {
   "cell_type": "markdown",
   "metadata": {
    "slideshow": {
     "slide_type": "slide"
    }
   },
   "source": [
    "Data Visualization Show & Tell @Feedzai\n",
    "\n",
    "# [Width-Scale Bar Charts for Data with Large Value Range](https://diglib.eg.org/handle/10.2312/evs20201056)\n",
    "\n",
    "M. Höhn, M. Wunderlich, K. Ballweg, T. von Landesberger @EGEV2020"
   ]
  },
  {
   "cell_type": "code",
   "execution_count": null,
   "metadata": {
    "slideshow": {
     "slide_type": "skip"
    }
   },
   "outputs": [],
   "source": [
    "%load_ext autoreload\n",
    "%autoreload 2\n",
    "\n",
    "from utils import load_data\n",
    "from charts import ssb_chart, omm_chart, wsb_chart, bar_chart, show_population, show_log_error\n",
    "from theme import set_alt_aesthetic"
   ]
  },
  {
   "cell_type": "code",
   "execution_count": null,
   "metadata": {
    "slideshow": {
     "slide_type": "skip"
    }
   },
   "outputs": [],
   "source": [
    "set_alt_aesthetic()"
   ]
  },
  {
   "cell_type": "code",
   "execution_count": null,
   "metadata": {
    "slideshow": {
     "slide_type": "slide"
    }
   },
   "outputs": [],
   "source": [
    "show_population()"
   ]
  },
  {
   "cell_type": "markdown",
   "metadata": {
    "slideshow": {
     "slide_type": "slide"
    }
   },
   "source": [
    "# 💪 Motivation\n",
    "\n",
    "Datasets with a wide range of values (bar heights ▂▁▇) can be difficult to visualize through linear bar charts.\n",
    "\n",
    "So, let's try to improve the **readibility** of the values with a new design for bar charts!"
   ]
  },
  {
   "cell_type": "markdown",
   "metadata": {
    "slideshow": {
     "slide_type": "slide"
    }
   },
   "source": [
    "# 💪 Motivation\n",
    "\n",
    "Personally, I found the idea of dividing numbers into several encodings (spoiler!) quite interesting and *simple*.\n",
    "\n",
    "The focus of this presentation will be on the bar chart designs contained in this paper."
   ]
  },
  {
   "cell_type": "markdown",
   "metadata": {
    "slideshow": {
     "slide_type": "slide"
    }
   },
   "source": [
    "# 🎨 Width-Scale Bar Chart\n",
    "\n",
    "- Each value ($v$) is divided into two parts — mantissa ($m$) and exponent ($e$) — that follow scientific notation: $v = m \\times 10^e$ (w/ $1 \\leq m < 10$ and $e \\in \\mathbb{Z}$ a.k.a. set of integers)"
   ]
  },
  {
   "cell_type": "markdown",
   "metadata": {
    "slideshow": {
     "slide_type": "fragment"
    }
   },
   "source": [
    "- 3 visual variables: height, width, and color"
   ]
  },
  {
   "cell_type": "markdown",
   "metadata": {
    "slideshow": {
     "slide_type": "fragment"
    }
   },
   "source": [
    "- $m$ is mapped to the height"
   ]
  },
  {
   "cell_type": "markdown",
   "metadata": {
    "slideshow": {
     "slide_type": "fragment"
    }
   },
   "source": [
    "- The domain of the Y-axis is [0, 10]"
   ]
  },
  {
   "cell_type": "markdown",
   "metadata": {
    "slideshow": {
     "slide_type": "slide"
    }
   },
   "source": [
    "# 🎨 Width-Scale Bar Chart\n",
    "\n",
    "- $e$ is mapped to both the width and the color (double encoding)"
   ]
  },
  {
   "cell_type": "markdown",
   "metadata": {
    "slideshow": {
     "slide_type": "fragment"
    }
   },
   "source": [
    "- Larger $e$ are represented by darker colors and wider bar width"
   ]
  },
  {
   "cell_type": "markdown",
   "metadata": {
    "slideshow": {
     "slide_type": "slide"
    }
   },
   "source": [
    "# 🎨 Width-Scale Bar Chart\n",
    "\n",
    "- For color, a yellow-orange (or orange-red?) sequential multi-hue scheme is used"
   ]
  },
  {
   "cell_type": "markdown",
   "metadata": {
    "slideshow": {
     "slide_type": "fragment"
    }
   },
   "source": [
    "- The authors pointed out two reasons for this choice:\n",
    "\n",
    "- (1) Our visual system has maximum sensitivity to changes in luminance (perceived brightness) in this type of scheme\n",
    "\n",
    "- (2) This type of scheme is colorblind-friendly (*contrast* is achieved)"
   ]
  },
  {
   "cell_type": "markdown",
   "metadata": {
    "slideshow": {
     "slide_type": "fragment"
    }
   },
   "source": [
    "- **Off-topic**: The [*colorspace*](http://colorspace.r-forge.r-project.org/index.html) R package is a great resource for learning about color"
   ]
  },
  {
   "cell_type": "code",
   "execution_count": null,
   "metadata": {
    "slideshow": {
     "slide_type": "slide"
    }
   },
   "outputs": [],
   "source": [
    "data = load_data(show_unicode=True)\n",
    "data"
   ]
  },
  {
   "cell_type": "code",
   "execution_count": null,
   "metadata": {
    "slideshow": {
     "slide_type": "slide"
    }
   },
   "outputs": [],
   "source": [
    "wsb_chart(data)"
   ]
  },
  {
   "cell_type": "markdown",
   "metadata": {
    "slideshow": {
     "slide_type": "slide"
    }
   },
   "source": [
    "# 📝 Evaluation\n",
    "\n",
    "This design was contrasted with the following designs:\n",
    "\n",
    "- Linear Bar Chart (LIN)\n",
    "- Log Bar Chart (LOG)\n",
    "- Order of Magnitude Markers (OMM)\n",
    "- Scale-Stack Bar Chart (SSB)"
   ]
  },
  {
   "cell_type": "code",
   "execution_count": null,
   "metadata": {
    "slideshow": {
     "slide_type": "slide"
    }
   },
   "outputs": [],
   "source": [
    "bar_chart(data, yscale=\"linear\") | bar_chart(data, yscale=\"log\")"
   ]
  },
  {
   "cell_type": "code",
   "execution_count": null,
   "metadata": {
    "slideshow": {
     "slide_type": "slide"
    }
   },
   "outputs": [],
   "source": [
    "omm_chart(data)"
   ]
  },
  {
   "cell_type": "code",
   "execution_count": null,
   "metadata": {
    "slideshow": {
     "slide_type": "slide"
    }
   },
   "outputs": [],
   "source": [
    "ssb_chart(data)"
   ]
  },
  {
   "cell_type": "markdown",
   "metadata": {
    "slideshow": {
     "slide_type": "slide"
    }
   },
   "source": [
    "# 📝 Evaluation\n",
    "\n",
    "- Data: $0 < e \\leq 4$\n",
    "- Number of participants: 136 (-21 = 115)\n",
    "- Between-subject study: 1 design × 4 tasks × 6 repetitions = 24 tasks per participant\n",
    "- Metrics: log error ($e_{log} = log_{10}(\\frac{response_{v}}{encoded_{v}})$) for the _Value_ and _Ratio_ tasks, binary error ($1 - accuracy$) for the _Sort_ and _Trend_ tasks, and response time"
   ]
  },
  {
   "cell_type": "code",
   "execution_count": null,
   "metadata": {
    "slideshow": {
     "slide_type": "slide"
    }
   },
   "outputs": [],
   "source": [
    "show_log_error()"
   ]
  },
  {
   "cell_type": "markdown",
   "metadata": {
    "slideshow": {
     "slide_type": "slide"
    }
   },
   "source": [
    "\n",
    "# 📝 Evaluation\n",
    "\n",
    "**Tasks**:\n",
    "\n",
    "- Value: \"read the value\"\n",
    "- Sort: \"sort all values in ascending order\"\n",
    "- Ratio: \"determine the ratio of two values\"\n",
    "- Trend: \"identify the trend in the data from the choice of linear, a logarithmic or an exponential, or none\""
   ]
  },
  {
   "cell_type": "markdown",
   "metadata": {
    "slideshow": {
     "slide_type": "slide"
    }
   },
   "source": [
    "# Let's take a look..."
   ]
  },
  {
   "cell_type": "markdown",
   "metadata": {
    "slideshow": {
     "slide_type": "slide"
    }
   },
   "source": [
    "<figure>\n",
    "  <img src=\"study-results-hohn_et_al_2020.png\" alt=\"Evaluation results\" style=\"width:95%\">\n",
    "  <figcaption>Source: Höhn et al., 2020</figcaption>\n",
    "</figure>"
   ]
  },
  {
   "cell_type": "markdown",
   "metadata": {
    "slideshow": {
     "slide_type": "slide"
    }
   },
   "source": [
    "# 💯 Results\n",
    "\n",
    "Ranking:\n",
    "\n",
    "- Value: **WSB**≺LOG≺OMM≼LIN≺SSB\n",
    "- Sort: SSB≼**WSB**≼LOG≼OMM≺LIN\n",
    "- Ratio: SSB≼**WSB**≺LOG≼OMM≺LIN\n",
    "- Trend: LIN≼SSB≺**WSB**≺OMM≼LOG"
   ]
  },
  {
   "cell_type": "markdown",
   "metadata": {
    "slideshow": {
     "slide_type": "slide"
    }
   },
   "source": [
    "# Thanks! 📊\n",
    "\n",
    "The Width-Scale Bar Chart is an alternative to the typical bar chart to visualize data with a wide value/bar height range.\n",
    "\n",
    "- [Paper](https://diglib.eg.org/handle/10.2312/evs20201056)\n",
    "- [Presentation @EGEV2020](https://youtu.be/edIPfDIH1p0?t=1064)\n",
    "- [Order of Magnitude Markers paper](http://cs.swan.ac.uk/~csmark/publications/2014_Order_of_Magnitude_Markers.html)\n",
    "- [Scale-Stack Bar Chart paper](https://www.researchgate.net/publication/263008873_Scale-Stack_Bar_Charts)"
   ]
  }
 ],
 "metadata": {
  "celltoolbar": "Slideshow",
  "kernelspec": {
   "display_name": "Python 3",
   "language": "python",
   "name": "python3"
  },
  "language_info": {
   "codemirror_mode": {
    "name": "ipython",
    "version": 3
   },
   "file_extension": ".py",
   "mimetype": "text/x-python",
   "name": "python",
   "nbconvert_exporter": "python",
   "pygments_lexer": "ipython3",
   "version": "3.6.10"
  },
  "rise": {
   "auto_select": "none",
   "controls": false,
   "enable_chalkboard": false,
   "slideNumber": "c/t"
  }
 },
 "nbformat": 4,
 "nbformat_minor": 4
}
