{
 "cells": [
  {
   "cell_type": "markdown",
   "metadata": {
    "slideshow": {
     "slide_type": "slide"
    }
   },
   "source": [
    "Data Visualization Show & Tell @Feedzai\n",
    "\n",
    "# [Width-Scale Bar Charts for Data with Large Value Range](https://diglib.eg.org/handle/10.2312/evs20201056)\n",
    "\n",
    "M. Höhn, M. Wunderlich, K. Ballweg, T. von Landesberger @EGEV2020"
   ]
  },
  {
   "cell_type": "code",
   "execution_count": null,
   "metadata": {
    "slideshow": {
     "slide_type": "skip"
    }
   },
   "outputs": [],
   "source": [
    "%load_ext autoreload\n",
    "%autoreload 2\n",
    "\n",
    "from utils import load_data, show_population\n",
    "from charts import ssb_chart, omm_chart, wsb_chart, bar_chart\n",
    "from theme import set_alt_aesthetic"
   ]
  },
  {
   "cell_type": "code",
   "execution_count": null,
   "metadata": {
    "slideshow": {
     "slide_type": "skip"
    }
   },
   "outputs": [],
   "source": [
    "set_alt_aesthetic()"
   ]
  },
  {
   "cell_type": "code",
   "execution_count": null,
   "metadata": {
    "slideshow": {
     "slide_type": "slide"
    }
   },
   "outputs": [],
   "source": [
    "show_population()"
   ]
  },
  {
   "cell_type": "markdown",
   "metadata": {
    "slideshow": {
     "slide_type": "slide"
    }
   },
   "source": [
    "# Motivation\n",
    "\n",
    "Datasets with a wide range of values (bar heights) can be difficult to visualize through linear bar charts.\n",
    "\n",
    "So, let's try to improve the readibility of the values with a new design for bar charts!"
   ]
  },
  {
   "cell_type": "markdown",
   "metadata": {
    "slideshow": {
     "slide_type": "slide"
    }
   },
   "source": [
    "# Width-Scale Bar Chart design\n",
    "\n",
    "- Each value ($v$) is divided into two parts — mantissa ($m$) and exponent ($e$) — that follow scientific notation: $v = m \\times 10^e$"
   ]
  },
  {
   "cell_type": "markdown",
   "metadata": {
    "slideshow": {
     "slide_type": "fragment"
    }
   },
   "source": [
    "- 3 visual variables: width, height, and color"
   ]
  },
  {
   "cell_type": "markdown",
   "metadata": {
    "slideshow": {
     "slide_type": "fragment"
    }
   },
   "source": [
    "- Here"
   ]
  },
  {
   "cell_type": "code",
   "execution_count": null,
   "metadata": {
    "slideshow": {
     "slide_type": "slide"
    }
   },
   "outputs": [],
   "source": [
    "data = load_data(show_unicode=True)\n",
    "data"
   ]
  },
  {
   "cell_type": "code",
   "execution_count": null,
   "metadata": {
    "slideshow": {
     "slide_type": "slide"
    }
   },
   "outputs": [],
   "source": [
    "wsb_chart(data)"
   ]
  },
  {
   "cell_type": "code",
   "execution_count": null,
   "metadata": {
    "slideshow": {
     "slide_type": "slide"
    }
   },
   "outputs": [],
   "source": [
    "bar_chart(data, yscale=\"linear\") | bar_chart(data, yscale=\"log\")"
   ]
  },
  {
   "cell_type": "code",
   "execution_count": null,
   "metadata": {
    "slideshow": {
     "slide_type": "slide"
    }
   },
   "outputs": [],
   "source": [
    "omm_chart(data)"
   ]
  },
  {
   "cell_type": "code",
   "execution_count": null,
   "metadata": {
    "slideshow": {
     "slide_type": "slide"
    }
   },
   "outputs": [],
   "source": [
    "ssb_chart(data)"
   ]
  },
  {
   "cell_type": "markdown",
   "metadata": {
    "slideshow": {
     "slide_type": "slide"
    }
   },
   "source": [
    "# Evaluation"
   ]
  },
  {
   "cell_type": "markdown",
   "metadata": {
    "slideshow": {
     "slide_type": "slide"
    }
   },
   "source": [
    "# Thanks! 📊\n",
    "\n",
    "The Width-Scale Bar Chart is an alternative to the typical bar chart to visualize data with a wide value/bar height range.\n",
    "\n",
    "- [Paper](https://diglib.eg.org/handle/10.2312/evs20201056)\n",
    "- [Presentation @EGEV2020](https://youtu.be/edIPfDIH1p0?t=1064)\n",
    "- [Order of Magnitude Markers paper](http://cs.swan.ac.uk/~csmark/publications/2014_Order_of_Magnitude_Markers.html)\n",
    "- [Scale-Stack Bar Chart paper](https://www.researchgate.net/publication/263008873_Scale-Stack_Bar_Charts)"
   ]
  }
 ],
 "metadata": {
  "celltoolbar": "Slideshow",
  "kernelspec": {
   "display_name": "Python 3",
   "language": "python",
   "name": "python3"
  },
  "language_info": {
   "codemirror_mode": {
    "name": "ipython",
    "version": 3
   },
   "file_extension": ".py",
   "mimetype": "text/x-python",
   "name": "python",
   "nbconvert_exporter": "python",
   "pygments_lexer": "ipython3",
   "version": "3.6.10"
  },
  "rise": {
   "auto_select": "none",
   "controls": false,
   "enable_chalkboard": false,
   "slideNumber": "c/t"
  }
 },
 "nbformat": 4,
 "nbformat_minor": 4
}
