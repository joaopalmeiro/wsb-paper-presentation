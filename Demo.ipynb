{
 "cells": [
  {
   "cell_type": "markdown",
   "metadata": {
    "slideshow": {
     "slide_type": "slide"
    }
   },
   "source": [
    "Data Visualization Show & Tell @Feedzai\n",
    "\n",
    "# [Width-Scale Bar Charts for Data with Large Value Range](https://diglib.eg.org/handle/10.2312/evs20201056)\n",
    "\n",
    "M. Höhn, M. Wunderlich, K. Ballweg, T. von Landesberger @EGEV2020"
   ]
  },
  {
   "cell_type": "code",
   "execution_count": 1,
   "metadata": {
    "slideshow": {
     "slide_type": "skip"
    }
   },
   "outputs": [],
   "source": [
    "%load_ext autoreload\n",
    "%autoreload 2\n",
    "\n",
    "from utils import load_data\n",
    "from charts import ssb_chart, omm_chart, wsb_chart, bar_chart, show_population, show_log_error\n",
    "from theme import set_alt_aesthetic"
   ]
  },
  {
   "cell_type": "code",
   "execution_count": 2,
   "metadata": {
    "slideshow": {
     "slide_type": "skip"
    }
   },
   "outputs": [
    {
     "data": {
      "text/html": [
       "\n",
       "            <style>\n",
       "                #vg-tooltip-element.vg-tooltip.lcontrast-theme {\n",
       "                    color: #44475A;\n",
       "                    border: 1px solid #EBEBEB;\n",
       "                    font-family: Roboto;\n",
       "                    font-size: 11px;\n",
       "                }\n",
       "\n",
       "                #vg-tooltip-element.vg-tooltip.lcontrast-theme td.key {\n",
       "                    color: #44475A;\n",
       "                    font-weight: bold;\n",
       "                }\n",
       "            </style>\n",
       "            "
      ],
      "text/plain": [
       "<IPython.core.display.HTML object>"
      ]
     },
     "metadata": {},
     "output_type": "display_data"
    }
   ],
   "source": [
    "set_alt_aesthetic()"
   ]
  },
  {
   "cell_type": "code",
   "execution_count": 3,
   "metadata": {
    "slideshow": {
     "slide_type": "slide"
    }
   },
   "outputs": [
    {
     "data": {
      "text/html": [
       "\n",
       "<div id=\"altair-viz-ac0bbb6f54814789814a44ea56f5684b\"></div>\n",
       "<script type=\"text/javascript\">\n",
       "  (function(spec, embedOpt){\n",
       "    let outputDiv = document.currentScript.previousElementSibling;\n",
       "    if (outputDiv.id !== \"altair-viz-ac0bbb6f54814789814a44ea56f5684b\") {\n",
       "      outputDiv = document.getElementById(\"altair-viz-ac0bbb6f54814789814a44ea56f5684b\");\n",
       "    }\n",
       "    const paths = {\n",
       "      \"vega\": \"https://cdn.jsdelivr.net/npm//vega@5?noext\",\n",
       "      \"vega-lib\": \"https://cdn.jsdelivr.net/npm//vega-lib?noext\",\n",
       "      \"vega-lite\": \"https://cdn.jsdelivr.net/npm//vega-lite@4.8.1?noext\",\n",
       "      \"vega-embed\": \"https://cdn.jsdelivr.net/npm//vega-embed@6?noext\",\n",
       "    };\n",
       "\n",
       "    function loadScript(lib) {\n",
       "      return new Promise(function(resolve, reject) {\n",
       "        var s = document.createElement('script');\n",
       "        s.src = paths[lib];\n",
       "        s.async = true;\n",
       "        s.onload = () => resolve(paths[lib]);\n",
       "        s.onerror = () => reject(`Error loading script: ${paths[lib]}`);\n",
       "        document.getElementsByTagName(\"head\")[0].appendChild(s);\n",
       "      });\n",
       "    }\n",
       "\n",
       "    function showError(err) {\n",
       "      outputDiv.innerHTML = `<div class=\"error\" style=\"color:red;\">${err}</div>`;\n",
       "      throw err;\n",
       "    }\n",
       "\n",
       "    function displayChart(vegaEmbed) {\n",
       "      vegaEmbed(outputDiv, spec, embedOpt)\n",
       "        .catch(err => showError(`Javascript Error: ${err.message}<br>This usually means there's a typo in your chart specification. See the javascript console for the full traceback.`));\n",
       "    }\n",
       "\n",
       "    if(typeof define === \"function\" && define.amd) {\n",
       "      requirejs.config({paths});\n",
       "      require([\"vega-embed\"], displayChart, err => showError(`Error loading script: ${err.message}`));\n",
       "    } else if (typeof vegaEmbed === \"function\") {\n",
       "      displayChart(vegaEmbed);\n",
       "    } else {\n",
       "      loadScript(\"vega\")\n",
       "        .then(() => loadScript(\"vega-lite\"))\n",
       "        .then(() => loadScript(\"vega-embed\"))\n",
       "        .catch(showError)\n",
       "        .then(() => displayChart(vegaEmbed));\n",
       "    }\n",
       "  })({\"config\": {\"title\": {\"font\": \"Roboto\", \"color\": \"#44475A\"}, \"axisX\": {\"labelFont\": \"Roboto\", \"titleFont\": \"Roboto\", \"gridColor\": \"#EBEBEB\", \"labelColor\": \"#44475A\", \"tickColor\": \"#44475A\", \"titleColor\": \"#44475A\", \"domainColor\": \"#44475A\", \"labelAngle\": 0}, \"axisY\": {\"labelFont\": \"Roboto\", \"titleFont\": \"Roboto\", \"gridColor\": \"#EBEBEB\", \"labelColor\": \"#44475A\", \"tickColor\": \"#44475A\", \"titleColor\": \"#44475A\", \"domainColor\": \"#44475A\"}, \"header\": {\"labelFont\": \"Roboto\", \"titleFont\": \"Roboto\", \"labelColor\": \"#44475A\", \"titleColor\": \"#44475A\"}, \"legend\": {\"labelFont\": \"Roboto\", \"titleFont\": \"Roboto\", \"labelColor\": \"#44475A\", \"titleColor\": \"#44475A\"}, \"text\": {\"color\": \"#44475A\"}, \"rule\": {\"color\": \"#44475A\"}, \"background\": \"#FFFFFF\", \"view\": {\"fill\": \"#FFFFFF\"}}, \"data\": {\"name\": \"data-e6c1dc5281db5e4c25d928783ed1e809\"}, \"mark\": {\"type\": \"bar\", \"color\": \"#F3852A\"}, \"encoding\": {\"tooltip\": [{\"type\": \"nominal\", \"field\": \"code\", \"title\": \"Code\"}, {\"type\": \"quantitative\", \"field\": \"value\", \"format\": \",\", \"title\": \"Value\"}, {\"type\": \"nominal\", \"field\": \"country\", \"title\": \"Country\"}], \"x\": {\"type\": \"nominal\", \"axis\": {\"title\": \"Code\"}, \"field\": \"code\"}, \"y\": {\"type\": \"quantitative\", \"axis\": {\"title\": \"Value\", \"titleAlign\": \"left\", \"titleAngle\": 0, \"titleX\": 0, \"titleY\": -5}, \"field\": \"value\", \"scale\": {\"domain\": [0, 100000000], \"type\": \"linear\"}}}, \"height\": 400, \"title\": {\"text\": [\"Population on January 1, 2019 in European countries\", \"Source: Eurostat\"], \"anchor\": \"start\"}, \"width\": 800, \"$schema\": \"https://vega.github.io/schema/vega-lite/v4.8.1.json\", \"datasets\": {\"data-e6c1dc5281db5e4c25d928783ed1e809\": [{\"code\": \"BE\", \"country\": \"Belgium\", \"value\": 11455519}, {\"code\": \"BG\", \"country\": \"Bulgaria\", \"value\": 7000039}, {\"code\": \"CZ\", \"country\": \"Czechia\", \"value\": 10649800}, {\"code\": \"DK\", \"country\": \"Denmark\", \"value\": 5806081}, {\"code\": \"DE\", \"country\": \"Germany\", \"value\": 83019213}, {\"code\": \"EE\", \"country\": \"Estonia\", \"value\": 1324820}, {\"code\": \"IE\", \"country\": \"Ireland\", \"value\": 4904240}, {\"code\": \"EL\", \"country\": \"Greece\", \"value\": 10724599}, {\"code\": \"ES\", \"country\": \"Spain\", \"value\": 46937060}, {\"code\": \"FR\", \"country\": \"France\", \"value\": 67012883}, {\"code\": \"HR\", \"country\": \"Croatia\", \"value\": 4076246}, {\"code\": \"IT\", \"country\": \"Italy\", \"value\": 60359546}, {\"code\": \"CY\", \"country\": \"Cyprus\", \"value\": 875899}, {\"code\": \"LV\", \"country\": \"Latvia\", \"value\": 1919968}, {\"code\": \"LT\", \"country\": \"Lithuania\", \"value\": 2794184}, {\"code\": \"LU\", \"country\": \"Luxembourg\", \"value\": 613894}, {\"code\": \"HU\", \"country\": \"Hungary\", \"value\": 9772756}, {\"code\": \"MT\", \"country\": \"Malta\", \"value\": 493559}, {\"code\": \"NL\", \"country\": \"Netherlands\", \"value\": 17282163}, {\"code\": \"AT\", \"country\": \"Austria\", \"value\": 8858775}, {\"code\": \"PL\", \"country\": \"Poland\", \"value\": 37972812}, {\"code\": \"PT\", \"country\": \"Portugal\", \"value\": 10276617}, {\"code\": \"RO\", \"country\": \"Romania\", \"value\": 19414458}, {\"code\": \"SI\", \"country\": \"Slovenia\", \"value\": 2080908}, {\"code\": \"SK\", \"country\": \"Slovakia\", \"value\": 5450421}, {\"code\": \"FI\", \"country\": \"Finland\", \"value\": 5517919}, {\"code\": \"SE\", \"country\": \"Sweden\", \"value\": 10230185}, {\"code\": \"UK\", \"country\": \"United Kingdom\", \"value\": 66647112}, {\"code\": \"IS\", \"country\": \"Iceland\", \"value\": 356991}, {\"code\": \"LI\", \"country\": \"Liechtenstein\", \"value\": 38378}, {\"code\": \"NO\", \"country\": \"Norway\", \"value\": 5328212}, {\"code\": \"CH\", \"country\": \"Switzerland\", \"value\": 8544527}, {\"code\": \"ME\", \"country\": \"Montenegro\", \"value\": 622182}, {\"code\": \"MK\", \"country\": \"North Macedonia\", \"value\": 2077132}, {\"code\": \"AL\", \"country\": \"Albania\", \"value\": 2862427}, {\"code\": \"RS\", \"country\": \"Serbia\", \"value\": 6963764}, {\"code\": \"TR\", \"country\": \"Turkey\", \"value\": 82003882}, {\"code\": \"AD\", \"country\": \"Andorra\", \"value\": 76177}, {\"code\": \"BY\", \"country\": \"Belarus\", \"value\": 9475174}, {\"code\": \"BA\", \"country\": \"Bosnia and Herzegovina\", \"value\": 3492018}, {\"code\": \"XK\", \"country\": \"Kosovo\", \"value\": 1795666}, {\"code\": \"MC\", \"country\": \"Monaco\", \"value\": 38300}, {\"code\": \"SM\", \"country\": \"San Marino\", \"value\": 34590}, {\"code\": \"UA\", \"country\": \"Ukraine\", \"value\": 41983564}, {\"code\": \"AM\", \"country\": \"Armenia\", \"value\": 2965269}, {\"code\": \"AZ\", \"country\": \"Azerbaijan\", \"value\": 9981457}, {\"code\": \"GE\", \"country\": \"Georgia\", \"value\": 3723464}]}}, {\"actions\": {\"export\": true, \"source\": false, \"compiled\": false, \"editor\": true}, \"scaleFactor\": 5, \"i18n\": {\"PNG_ACTION\": \"Save as PNG\", \"SVG_ACTION\": \"Save as SVG\"}, \"tooltip\": {\"theme\": \"lcontrast\"}, \"renderer\": \"svg\", \"formatLocale\": {\"decimal\": \".\", \"thousands\": \",\", \"grouping\": [3], \"currency\": [\"\", \"\\u20ac\"]}, \"mode\": \"vega-lite\"});\n",
       "</script>"
      ],
      "text/plain": [
       "alt.Chart(...)"
      ]
     },
     "execution_count": 3,
     "metadata": {},
     "output_type": "execute_result"
    }
   ],
   "source": [
    "show_population()"
   ]
  },
  {
   "cell_type": "markdown",
   "metadata": {
    "slideshow": {
     "slide_type": "slide"
    }
   },
   "source": [
    "# 💪 Motivation\n",
    "\n",
    "Datasets with a wide range of values (bar heights ▂▁▇) can be difficult to visualize through linear bar charts.\n",
    "\n",
    "So, let's try to improve the **readibility** of the values with a new design for bar charts!"
   ]
  },
  {
   "cell_type": "markdown",
   "metadata": {
    "slideshow": {
     "slide_type": "slide"
    }
   },
   "source": [
    "# 💪 Motivation\n",
    "\n",
    "Personally, I found the idea of dividing numbers into several encodings (spoiler!) quite interesting and *simple*.\n",
    "\n",
    "The focus of this presentation will be on the bar chart designs contained in this paper."
   ]
  },
  {
   "cell_type": "markdown",
   "metadata": {
    "slideshow": {
     "slide_type": "slide"
    }
   },
   "source": [
    "# 🎨 Width-Scale Bar Chart\n",
    "\n",
    "- Each value ($v$) is divided into two parts — mantissa ($m$) and exponent ($e$) — that follow scientific notation: $v = m \\times 10^e$ (w/ $1 \\leq m < 10$ and $e \\in \\mathbb{Z}$ a.k.a. set of integers)"
   ]
  },
  {
   "cell_type": "markdown",
   "metadata": {
    "slideshow": {
     "slide_type": "fragment"
    }
   },
   "source": [
    "- 3 visual variables: height, width, and color"
   ]
  },
  {
   "cell_type": "markdown",
   "metadata": {
    "slideshow": {
     "slide_type": "fragment"
    }
   },
   "source": [
    "- $m$ is mapped to the height"
   ]
  },
  {
   "cell_type": "markdown",
   "metadata": {
    "slideshow": {
     "slide_type": "fragment"
    }
   },
   "source": [
    "- The domain of the Y-axis is [0, 10]"
   ]
  },
  {
   "cell_type": "markdown",
   "metadata": {
    "slideshow": {
     "slide_type": "slide"
    }
   },
   "source": [
    "# 🎨 Width-Scale Bar Chart\n",
    "\n",
    "- $e$ is mapped to both the width and the color (double encoding)"
   ]
  },
  {
   "cell_type": "markdown",
   "metadata": {
    "slideshow": {
     "slide_type": "fragment"
    }
   },
   "source": [
    "- Larger $e$ are represented by darker colors and wider bar width"
   ]
  },
  {
   "cell_type": "markdown",
   "metadata": {
    "slideshow": {
     "slide_type": "slide"
    }
   },
   "source": [
    "# 🎨 Width-Scale Bar Chart\n",
    "\n",
    "- For color, a yellow-orange (or orange-red?) sequential multi-hue scheme is used"
   ]
  },
  {
   "cell_type": "markdown",
   "metadata": {
    "slideshow": {
     "slide_type": "fragment"
    }
   },
   "source": [
    "- The authors pointed out two reasons for this choice:\n",
    "\n",
    "- (1) Our visual system has maximum sensitivity to changes in luminance (perceived brightness) in this type of scheme\n",
    "\n",
    "- (2) This type of scheme is colorblind-friendly (*contrast* is achieved)"
   ]
  },
  {
   "cell_type": "markdown",
   "metadata": {
    "slideshow": {
     "slide_type": "fragment"
    }
   },
   "source": [
    "- **Off-topic**: The [*colorspace*](http://colorspace.r-forge.r-project.org/index.html) R package is a great resource for learning about color"
   ]
  },
  {
   "cell_type": "code",
   "execution_count": 4,
   "metadata": {
    "slideshow": {
     "slide_type": "slide"
    }
   },
   "outputs": [
    {
     "data": {
      "text/html": [
       "<div>\n",
       "<style scoped>\n",
       "    .dataframe tbody tr th:only-of-type {\n",
       "        vertical-align: middle;\n",
       "    }\n",
       "\n",
       "    .dataframe tbody tr th {\n",
       "        vertical-align: top;\n",
       "    }\n",
       "\n",
       "    .dataframe thead th {\n",
       "        text-align: right;\n",
       "    }\n",
       "</style>\n",
       "<table border=\"1\" class=\"dataframe\">\n",
       "  <thead>\n",
       "    <tr style=\"text-align: right;\">\n",
       "      <th></th>\n",
       "      <th>category</th>\n",
       "      <th>value</th>\n",
       "      <th>scale</th>\n",
       "      <th>mantissa</th>\n",
       "      <th>exponent</th>\n",
       "      <th>multiplier</th>\n",
       "      <th>end</th>\n",
       "      <th>start</th>\n",
       "      <th>middle</th>\n",
       "      <th>original</th>\n",
       "    </tr>\n",
       "  </thead>\n",
       "  <tbody>\n",
       "    <tr>\n",
       "      <th>0</th>\n",
       "      <td>A</td>\n",
       "      <td>1</td>\n",
       "      <td>1</td>\n",
       "      <td>1.0</td>\n",
       "      <td>0</td>\n",
       "      <td>1</td>\n",
       "      <td>10</td>\n",
       "      <td>0</td>\n",
       "      <td>5.0</td>\n",
       "      <td>1 = 1 × 10⁰</td>\n",
       "    </tr>\n",
       "    <tr>\n",
       "      <th>1</th>\n",
       "      <td>B</td>\n",
       "      <td>600</td>\n",
       "      <td>1000</td>\n",
       "      <td>6.0</td>\n",
       "      <td>2</td>\n",
       "      <td>100</td>\n",
       "      <td>40</td>\n",
       "      <td>10</td>\n",
       "      <td>25.0</td>\n",
       "      <td>600 = 6 × 10²</td>\n",
       "    </tr>\n",
       "    <tr>\n",
       "      <th>2</th>\n",
       "      <td>C</td>\n",
       "      <td>6000</td>\n",
       "      <td>10000</td>\n",
       "      <td>6.0</td>\n",
       "      <td>3</td>\n",
       "      <td>1000</td>\n",
       "      <td>80</td>\n",
       "      <td>40</td>\n",
       "      <td>60.0</td>\n",
       "      <td>6,000 = 6 × 10³</td>\n",
       "    </tr>\n",
       "    <tr>\n",
       "      <th>3</th>\n",
       "      <td>D</td>\n",
       "      <td>300</td>\n",
       "      <td>1000</td>\n",
       "      <td>3.0</td>\n",
       "      <td>2</td>\n",
       "      <td>100</td>\n",
       "      <td>110</td>\n",
       "      <td>80</td>\n",
       "      <td>95.0</td>\n",
       "      <td>300 = 3 × 10²</td>\n",
       "    </tr>\n",
       "    <tr>\n",
       "      <th>4</th>\n",
       "      <td>E</td>\n",
       "      <td>10</td>\n",
       "      <td>10</td>\n",
       "      <td>1.0</td>\n",
       "      <td>1</td>\n",
       "      <td>10</td>\n",
       "      <td>130</td>\n",
       "      <td>110</td>\n",
       "      <td>120.0</td>\n",
       "      <td>10 = 1 × 10¹</td>\n",
       "    </tr>\n",
       "    <tr>\n",
       "      <th>5</th>\n",
       "      <td>F</td>\n",
       "      <td>1000</td>\n",
       "      <td>1000</td>\n",
       "      <td>1.0</td>\n",
       "      <td>3</td>\n",
       "      <td>1000</td>\n",
       "      <td>170</td>\n",
       "      <td>130</td>\n",
       "      <td>150.0</td>\n",
       "      <td>1,000 = 1 × 10³</td>\n",
       "    </tr>\n",
       "    <tr>\n",
       "      <th>6</th>\n",
       "      <td>G</td>\n",
       "      <td>80</td>\n",
       "      <td>100</td>\n",
       "      <td>8.0</td>\n",
       "      <td>1</td>\n",
       "      <td>10</td>\n",
       "      <td>190</td>\n",
       "      <td>170</td>\n",
       "      <td>180.0</td>\n",
       "      <td>80 = 8 × 10¹</td>\n",
       "    </tr>\n",
       "    <tr>\n",
       "      <th>7</th>\n",
       "      <td>H</td>\n",
       "      <td>4</td>\n",
       "      <td>10</td>\n",
       "      <td>4.0</td>\n",
       "      <td>0</td>\n",
       "      <td>1</td>\n",
       "      <td>200</td>\n",
       "      <td>190</td>\n",
       "      <td>195.0</td>\n",
       "      <td>4 = 4 × 10⁰</td>\n",
       "    </tr>\n",
       "  </tbody>\n",
       "</table>\n",
       "</div>"
      ],
      "text/plain": [
       "  category  value  scale  mantissa  exponent  multiplier  end  start  middle  \\\n",
       "0        A      1      1       1.0         0           1   10      0     5.0   \n",
       "1        B    600   1000       6.0         2         100   40     10    25.0   \n",
       "2        C   6000  10000       6.0         3        1000   80     40    60.0   \n",
       "3        D    300   1000       3.0         2         100  110     80    95.0   \n",
       "4        E     10     10       1.0         1          10  130    110   120.0   \n",
       "5        F   1000   1000       1.0         3        1000  170    130   150.0   \n",
       "6        G     80    100       8.0         1          10  190    170   180.0   \n",
       "7        H      4     10       4.0         0           1  200    190   195.0   \n",
       "\n",
       "          original  \n",
       "0      1 = 1 × 10⁰  \n",
       "1    600 = 6 × 10²  \n",
       "2  6,000 = 6 × 10³  \n",
       "3    300 = 3 × 10²  \n",
       "4     10 = 1 × 10¹  \n",
       "5  1,000 = 1 × 10³  \n",
       "6     80 = 8 × 10¹  \n",
       "7      4 = 4 × 10⁰  "
      ]
     },
     "execution_count": 4,
     "metadata": {},
     "output_type": "execute_result"
    }
   ],
   "source": [
    "data = load_data(show_unicode=True)\n",
    "data"
   ]
  },
  {
   "cell_type": "code",
   "execution_count": 5,
   "metadata": {
    "slideshow": {
     "slide_type": "slide"
    }
   },
   "outputs": [
    {
     "data": {
      "text/html": [
       "\n",
       "<div id=\"altair-viz-43faf8991f9244028af525caccb2c755\"></div>\n",
       "<script type=\"text/javascript\">\n",
       "  (function(spec, embedOpt){\n",
       "    let outputDiv = document.currentScript.previousElementSibling;\n",
       "    if (outputDiv.id !== \"altair-viz-43faf8991f9244028af525caccb2c755\") {\n",
       "      outputDiv = document.getElementById(\"altair-viz-43faf8991f9244028af525caccb2c755\");\n",
       "    }\n",
       "    const paths = {\n",
       "      \"vega\": \"https://cdn.jsdelivr.net/npm//vega@5?noext\",\n",
       "      \"vega-lib\": \"https://cdn.jsdelivr.net/npm//vega-lib?noext\",\n",
       "      \"vega-lite\": \"https://cdn.jsdelivr.net/npm//vega-lite@4.8.1?noext\",\n",
       "      \"vega-embed\": \"https://cdn.jsdelivr.net/npm//vega-embed@6?noext\",\n",
       "    };\n",
       "\n",
       "    function loadScript(lib) {\n",
       "      return new Promise(function(resolve, reject) {\n",
       "        var s = document.createElement('script');\n",
       "        s.src = paths[lib];\n",
       "        s.async = true;\n",
       "        s.onload = () => resolve(paths[lib]);\n",
       "        s.onerror = () => reject(`Error loading script: ${paths[lib]}`);\n",
       "        document.getElementsByTagName(\"head\")[0].appendChild(s);\n",
       "      });\n",
       "    }\n",
       "\n",
       "    function showError(err) {\n",
       "      outputDiv.innerHTML = `<div class=\"error\" style=\"color:red;\">${err}</div>`;\n",
       "      throw err;\n",
       "    }\n",
       "\n",
       "    function displayChart(vegaEmbed) {\n",
       "      vegaEmbed(outputDiv, spec, embedOpt)\n",
       "        .catch(err => showError(`Javascript Error: ${err.message}<br>This usually means there's a typo in your chart specification. See the javascript console for the full traceback.`));\n",
       "    }\n",
       "\n",
       "    if(typeof define === \"function\" && define.amd) {\n",
       "      requirejs.config({paths});\n",
       "      require([\"vega-embed\"], displayChart, err => showError(`Error loading script: ${err.message}`));\n",
       "    } else if (typeof vegaEmbed === \"function\") {\n",
       "      displayChart(vegaEmbed);\n",
       "    } else {\n",
       "      loadScript(\"vega\")\n",
       "        .then(() => loadScript(\"vega-lite\"))\n",
       "        .then(() => loadScript(\"vega-embed\"))\n",
       "        .catch(showError)\n",
       "        .then(() => displayChart(vegaEmbed));\n",
       "    }\n",
       "  })({\"config\": {\"title\": {\"font\": \"Roboto\", \"color\": \"#44475A\"}, \"axisX\": {\"labelFont\": \"Roboto\", \"titleFont\": \"Roboto\", \"gridColor\": \"#EBEBEB\", \"labelColor\": \"#44475A\", \"tickColor\": \"#44475A\", \"titleColor\": \"#44475A\", \"domainColor\": \"#44475A\", \"labelAngle\": 0}, \"axisY\": {\"labelFont\": \"Roboto\", \"titleFont\": \"Roboto\", \"gridColor\": \"#EBEBEB\", \"labelColor\": \"#44475A\", \"tickColor\": \"#44475A\", \"titleColor\": \"#44475A\", \"domainColor\": \"#44475A\"}, \"header\": {\"labelFont\": \"Roboto\", \"titleFont\": \"Roboto\", \"labelColor\": \"#44475A\", \"titleColor\": \"#44475A\"}, \"legend\": {\"labelFont\": \"Roboto\", \"titleFont\": \"Roboto\", \"labelColor\": \"#44475A\", \"titleColor\": \"#44475A\"}, \"text\": {\"color\": \"#44475A\"}, \"rule\": {\"color\": \"#44475A\"}, \"background\": \"#FFFFFF\", \"view\": {\"fill\": \"#FFFFFF\"}}, \"layer\": [{\"mark\": \"rect\", \"encoding\": {\"color\": {\"type\": \"ordinal\", \"field\": \"multiplier\", \"legend\": {\"labelExpr\": \"'\\u00d7 ' + format(datum.value, ',')\"}, \"scale\": {\"scheme\": \"orangered\"}, \"title\": \"Magnitude Multiplier\"}, \"opacity\": {\"condition\": {\"value\": 1, \"selection\": \"selector001\"}, \"value\": 0.2}, \"tooltip\": [{\"type\": \"nominal\", \"field\": \"category\", \"title\": \"Category\"}, {\"type\": \"nominal\", \"field\": \"original\", \"title\": \"Value\"}, {\"type\": \"quantitative\", \"field\": \"mantissa\", \"title\": \"Mantissa\"}, {\"type\": \"ordinal\", \"field\": \"multiplier\", \"format\": \",\", \"title\": \"Magnitude Multiplier\"}], \"x\": {\"type\": \"quantitative\", \"axis\": {\"grid\": false, \"labels\": false, \"title\": \"Category\", \"titleY\": 21.5, \"values\": [6.25, 28.75, 66.25, 103.75, 131.25, 163.75, 196.25, 213.75]}, \"field\": \"start\"}, \"x2\": {\"field\": \"end\"}, \"y\": {\"type\": \"quantitative\", \"axis\": {\"labelExpr\": \"datum.value + ' \\u00d7'\", \"title\": \"Mantissa\", \"titleAlign\": \"left\", \"titleAngle\": 0, \"titleX\": 0, \"titleY\": -5}, \"field\": \"mantissa\", \"scale\": {\"domain\": [0, 10]}}}, \"height\": 400, \"selection\": {\"selector001\": {\"type\": \"single\", \"fields\": [\"multiplier\"], \"bind\": \"legend\"}}, \"width\": 400}, {\"mark\": {\"type\": \"text\", \"align\": \"center\", \"baseline\": \"middle\", \"fontSize\": 10}, \"encoding\": {\"text\": {\"type\": \"nominal\", \"field\": \"category\"}, \"x\": {\"type\": \"quantitative\", \"field\": \"middle\"}, \"y\": {\"value\": 412.5}}, \"height\": 400, \"width\": 400}], \"data\": {\"name\": \"data-11aa8f2f725c3d91c7961bd763a7755a\"}, \"title\": {\"text\": \"Width-Scale Bar Chart\", \"anchor\": \"start\"}, \"$schema\": \"https://vega.github.io/schema/vega-lite/v4.8.1.json\", \"datasets\": {\"data-11aa8f2f725c3d91c7961bd763a7755a\": [{\"category\": \"A\", \"value\": 1, \"scale\": 1, \"mantissa\": 1.0, \"exponent\": 0, \"multiplier\": 1, \"end\": 11.25, \"start\": 1.25, \"middle\": 6.25, \"original\": \"1 = 1 \\u00d7 10\\u2070\"}, {\"category\": \"B\", \"value\": 600, \"scale\": 1000, \"mantissa\": 6.0, \"exponent\": 2, \"multiplier\": 100, \"end\": 43.75, \"start\": 13.75, \"middle\": 28.75, \"original\": \"600 = 6 \\u00d7 10\\u00b2\"}, {\"category\": \"C\", \"value\": 6000, \"scale\": 10000, \"mantissa\": 6.0, \"exponent\": 3, \"multiplier\": 1000, \"end\": 86.25, \"start\": 46.25, \"middle\": 66.25, \"original\": \"6,000 = 6 \\u00d7 10\\u00b3\"}, {\"category\": \"D\", \"value\": 300, \"scale\": 1000, \"mantissa\": 3.0, \"exponent\": 2, \"multiplier\": 100, \"end\": 118.75, \"start\": 88.75, \"middle\": 103.75, \"original\": \"300 = 3 \\u00d7 10\\u00b2\"}, {\"category\": \"E\", \"value\": 10, \"scale\": 10, \"mantissa\": 1.0, \"exponent\": 1, \"multiplier\": 10, \"end\": 141.25, \"start\": 121.25, \"middle\": 131.25, \"original\": \"10 = 1 \\u00d7 10\\u00b9\"}, {\"category\": \"F\", \"value\": 1000, \"scale\": 1000, \"mantissa\": 1.0, \"exponent\": 3, \"multiplier\": 1000, \"end\": 183.75, \"start\": 143.75, \"middle\": 163.75, \"original\": \"1,000 = 1 \\u00d7 10\\u00b3\"}, {\"category\": \"G\", \"value\": 80, \"scale\": 100, \"mantissa\": 8.0, \"exponent\": 1, \"multiplier\": 10, \"end\": 206.25, \"start\": 186.25, \"middle\": 196.25, \"original\": \"80 = 8 \\u00d7 10\\u00b9\"}, {\"category\": \"H\", \"value\": 4, \"scale\": 10, \"mantissa\": 4.0, \"exponent\": 0, \"multiplier\": 1, \"end\": 218.75, \"start\": 208.75, \"middle\": 213.75, \"original\": \"4 = 4 \\u00d7 10\\u2070\"}]}}, {\"actions\": {\"export\": true, \"source\": false, \"compiled\": false, \"editor\": true}, \"scaleFactor\": 5, \"i18n\": {\"PNG_ACTION\": \"Save as PNG\", \"SVG_ACTION\": \"Save as SVG\"}, \"tooltip\": {\"theme\": \"lcontrast\"}, \"renderer\": \"svg\", \"formatLocale\": {\"decimal\": \".\", \"thousands\": \",\", \"grouping\": [3], \"currency\": [\"\", \"\\u20ac\"]}, \"mode\": \"vega-lite\"});\n",
       "</script>"
      ],
      "text/plain": [
       "alt.LayerChart(...)"
      ]
     },
     "execution_count": 5,
     "metadata": {},
     "output_type": "execute_result"
    }
   ],
   "source": [
    "wsb_chart(data)"
   ]
  },
  {
   "cell_type": "markdown",
   "metadata": {
    "slideshow": {
     "slide_type": "slide"
    }
   },
   "source": [
    "# 📝 Evaluation\n",
    "\n",
    "This design was contrasted with the following designs:\n",
    "\n",
    "- Linear Bar Chart (LIN)\n",
    "- Log Bar Chart (LOG)\n",
    "- Order of Magnitude Markers (OMM)\n",
    "- Scale-Stack Bar Chart (SSB)"
   ]
  },
  {
   "cell_type": "code",
   "execution_count": 6,
   "metadata": {
    "slideshow": {
     "slide_type": "slide"
    }
   },
   "outputs": [
    {
     "data": {
      "text/html": [
       "\n",
       "<div id=\"altair-viz-50800c7a29164e05978881837c680910\"></div>\n",
       "<script type=\"text/javascript\">\n",
       "  (function(spec, embedOpt){\n",
       "    let outputDiv = document.currentScript.previousElementSibling;\n",
       "    if (outputDiv.id !== \"altair-viz-50800c7a29164e05978881837c680910\") {\n",
       "      outputDiv = document.getElementById(\"altair-viz-50800c7a29164e05978881837c680910\");\n",
       "    }\n",
       "    const paths = {\n",
       "      \"vega\": \"https://cdn.jsdelivr.net/npm//vega@5?noext\",\n",
       "      \"vega-lib\": \"https://cdn.jsdelivr.net/npm//vega-lib?noext\",\n",
       "      \"vega-lite\": \"https://cdn.jsdelivr.net/npm//vega-lite@4.8.1?noext\",\n",
       "      \"vega-embed\": \"https://cdn.jsdelivr.net/npm//vega-embed@6?noext\",\n",
       "    };\n",
       "\n",
       "    function loadScript(lib) {\n",
       "      return new Promise(function(resolve, reject) {\n",
       "        var s = document.createElement('script');\n",
       "        s.src = paths[lib];\n",
       "        s.async = true;\n",
       "        s.onload = () => resolve(paths[lib]);\n",
       "        s.onerror = () => reject(`Error loading script: ${paths[lib]}`);\n",
       "        document.getElementsByTagName(\"head\")[0].appendChild(s);\n",
       "      });\n",
       "    }\n",
       "\n",
       "    function showError(err) {\n",
       "      outputDiv.innerHTML = `<div class=\"error\" style=\"color:red;\">${err}</div>`;\n",
       "      throw err;\n",
       "    }\n",
       "\n",
       "    function displayChart(vegaEmbed) {\n",
       "      vegaEmbed(outputDiv, spec, embedOpt)\n",
       "        .catch(err => showError(`Javascript Error: ${err.message}<br>This usually means there's a typo in your chart specification. See the javascript console for the full traceback.`));\n",
       "    }\n",
       "\n",
       "    if(typeof define === \"function\" && define.amd) {\n",
       "      requirejs.config({paths});\n",
       "      require([\"vega-embed\"], displayChart, err => showError(`Error loading script: ${err.message}`));\n",
       "    } else if (typeof vegaEmbed === \"function\") {\n",
       "      displayChart(vegaEmbed);\n",
       "    } else {\n",
       "      loadScript(\"vega\")\n",
       "        .then(() => loadScript(\"vega-lite\"))\n",
       "        .then(() => loadScript(\"vega-embed\"))\n",
       "        .catch(showError)\n",
       "        .then(() => displayChart(vegaEmbed));\n",
       "    }\n",
       "  })({\"config\": {\"title\": {\"font\": \"Roboto\", \"color\": \"#44475A\"}, \"axisX\": {\"labelFont\": \"Roboto\", \"titleFont\": \"Roboto\", \"gridColor\": \"#EBEBEB\", \"labelColor\": \"#44475A\", \"tickColor\": \"#44475A\", \"titleColor\": \"#44475A\", \"domainColor\": \"#44475A\", \"labelAngle\": 0}, \"axisY\": {\"labelFont\": \"Roboto\", \"titleFont\": \"Roboto\", \"gridColor\": \"#EBEBEB\", \"labelColor\": \"#44475A\", \"tickColor\": \"#44475A\", \"titleColor\": \"#44475A\", \"domainColor\": \"#44475A\"}, \"header\": {\"labelFont\": \"Roboto\", \"titleFont\": \"Roboto\", \"labelColor\": \"#44475A\", \"titleColor\": \"#44475A\"}, \"legend\": {\"labelFont\": \"Roboto\", \"titleFont\": \"Roboto\", \"labelColor\": \"#44475A\", \"titleColor\": \"#44475A\"}, \"text\": {\"color\": \"#44475A\"}, \"rule\": {\"color\": \"#44475A\"}, \"background\": \"#FFFFFF\", \"view\": {\"fill\": \"#FFFFFF\"}}, \"hconcat\": [{\"mark\": {\"type\": \"bar\", \"color\": \"#F3852A\"}, \"encoding\": {\"tooltip\": [{\"type\": \"nominal\", \"field\": \"category\", \"title\": \"Category\"}, {\"type\": \"quantitative\", \"field\": \"value\", \"format\": \",\", \"title\": \"Value\"}], \"x\": {\"type\": \"nominal\", \"axis\": {\"title\": \"Category\"}, \"field\": \"category\"}, \"y\": {\"type\": \"quantitative\", \"axis\": {\"title\": \"Value\", \"titleAlign\": \"left\", \"titleAngle\": 0, \"titleX\": 0, \"titleY\": -5}, \"field\": \"value\", \"scale\": {\"domain\": [0, 10000], \"type\": \"linear\"}}}, \"height\": 400, \"title\": {\"text\": \"Linear Bar Chart\", \"anchor\": \"start\"}, \"width\": 400}, {\"mark\": {\"type\": \"bar\", \"color\": \"#F3852A\"}, \"encoding\": {\"tooltip\": [{\"type\": \"nominal\", \"field\": \"category\", \"title\": \"Category\"}, {\"type\": \"quantitative\", \"field\": \"value\", \"format\": \",\", \"title\": \"Value\"}], \"x\": {\"type\": \"nominal\", \"axis\": {\"title\": \"Category\"}, \"field\": \"category\"}, \"y\": {\"type\": \"quantitative\", \"axis\": {\"title\": \"Value\", \"titleAlign\": \"left\", \"titleAngle\": 0, \"titleX\": 0, \"titleY\": -5}, \"field\": \"value\", \"scale\": {\"type\": \"log\"}}}, \"height\": 400, \"title\": {\"text\": \"Log Bar Chart\", \"anchor\": \"start\"}, \"width\": 400}], \"data\": {\"name\": \"data-d10faf5f216f8e4b3bcace66d581db45\"}, \"$schema\": \"https://vega.github.io/schema/vega-lite/v4.8.1.json\", \"datasets\": {\"data-d10faf5f216f8e4b3bcace66d581db45\": [{\"category\": \"A\", \"value\": 1, \"scale\": 1, \"mantissa\": 1.0, \"exponent\": 0, \"multiplier\": 1, \"end\": 10, \"start\": 0, \"middle\": 5.0, \"original\": \"1 = 1 \\u00d7 10\\u2070\"}, {\"category\": \"B\", \"value\": 600, \"scale\": 1000, \"mantissa\": 6.0, \"exponent\": 2, \"multiplier\": 100, \"end\": 40, \"start\": 10, \"middle\": 25.0, \"original\": \"600 = 6 \\u00d7 10\\u00b2\"}, {\"category\": \"C\", \"value\": 6000, \"scale\": 10000, \"mantissa\": 6.0, \"exponent\": 3, \"multiplier\": 1000, \"end\": 80, \"start\": 40, \"middle\": 60.0, \"original\": \"6,000 = 6 \\u00d7 10\\u00b3\"}, {\"category\": \"D\", \"value\": 300, \"scale\": 1000, \"mantissa\": 3.0, \"exponent\": 2, \"multiplier\": 100, \"end\": 110, \"start\": 80, \"middle\": 95.0, \"original\": \"300 = 3 \\u00d7 10\\u00b2\"}, {\"category\": \"E\", \"value\": 10, \"scale\": 10, \"mantissa\": 1.0, \"exponent\": 1, \"multiplier\": 10, \"end\": 130, \"start\": 110, \"middle\": 120.0, \"original\": \"10 = 1 \\u00d7 10\\u00b9\"}, {\"category\": \"F\", \"value\": 1000, \"scale\": 1000, \"mantissa\": 1.0, \"exponent\": 3, \"multiplier\": 1000, \"end\": 170, \"start\": 130, \"middle\": 150.0, \"original\": \"1,000 = 1 \\u00d7 10\\u00b3\"}, {\"category\": \"G\", \"value\": 80, \"scale\": 100, \"mantissa\": 8.0, \"exponent\": 1, \"multiplier\": 10, \"end\": 190, \"start\": 170, \"middle\": 180.0, \"original\": \"80 = 8 \\u00d7 10\\u00b9\"}, {\"category\": \"H\", \"value\": 4, \"scale\": 10, \"mantissa\": 4.0, \"exponent\": 0, \"multiplier\": 1, \"end\": 200, \"start\": 190, \"middle\": 195.0, \"original\": \"4 = 4 \\u00d7 10\\u2070\"}]}}, {\"actions\": {\"export\": true, \"source\": false, \"compiled\": false, \"editor\": true}, \"scaleFactor\": 5, \"i18n\": {\"PNG_ACTION\": \"Save as PNG\", \"SVG_ACTION\": \"Save as SVG\"}, \"tooltip\": {\"theme\": \"lcontrast\"}, \"renderer\": \"svg\", \"formatLocale\": {\"decimal\": \".\", \"thousands\": \",\", \"grouping\": [3], \"currency\": [\"\", \"\\u20ac\"]}, \"mode\": \"vega-lite\"});\n",
       "</script>"
      ],
      "text/plain": [
       "alt.HConcatChart(...)"
      ]
     },
     "execution_count": 6,
     "metadata": {},
     "output_type": "execute_result"
    }
   ],
   "source": [
    "bar_chart(data, yscale=\"linear\") | bar_chart(data, yscale=\"log\")"
   ]
  },
  {
   "cell_type": "code",
   "execution_count": 7,
   "metadata": {
    "slideshow": {
     "slide_type": "slide"
    }
   },
   "outputs": [
    {
     "data": {
      "text/html": [
       "\n",
       "<div id=\"altair-viz-bd03197f3dc54546856570c7920b381a\"></div>\n",
       "<script type=\"text/javascript\">\n",
       "  (function(spec, embedOpt){\n",
       "    let outputDiv = document.currentScript.previousElementSibling;\n",
       "    if (outputDiv.id !== \"altair-viz-bd03197f3dc54546856570c7920b381a\") {\n",
       "      outputDiv = document.getElementById(\"altair-viz-bd03197f3dc54546856570c7920b381a\");\n",
       "    }\n",
       "    const paths = {\n",
       "      \"vega\": \"https://cdn.jsdelivr.net/npm//vega@5?noext\",\n",
       "      \"vega-lib\": \"https://cdn.jsdelivr.net/npm//vega-lib?noext\",\n",
       "      \"vega-lite\": \"https://cdn.jsdelivr.net/npm//vega-lite@4.8.1?noext\",\n",
       "      \"vega-embed\": \"https://cdn.jsdelivr.net/npm//vega-embed@6?noext\",\n",
       "    };\n",
       "\n",
       "    function loadScript(lib) {\n",
       "      return new Promise(function(resolve, reject) {\n",
       "        var s = document.createElement('script');\n",
       "        s.src = paths[lib];\n",
       "        s.async = true;\n",
       "        s.onload = () => resolve(paths[lib]);\n",
       "        s.onerror = () => reject(`Error loading script: ${paths[lib]}`);\n",
       "        document.getElementsByTagName(\"head\")[0].appendChild(s);\n",
       "      });\n",
       "    }\n",
       "\n",
       "    function showError(err) {\n",
       "      outputDiv.innerHTML = `<div class=\"error\" style=\"color:red;\">${err}</div>`;\n",
       "      throw err;\n",
       "    }\n",
       "\n",
       "    function displayChart(vegaEmbed) {\n",
       "      vegaEmbed(outputDiv, spec, embedOpt)\n",
       "        .catch(err => showError(`Javascript Error: ${err.message}<br>This usually means there's a typo in your chart specification. See the javascript console for the full traceback.`));\n",
       "    }\n",
       "\n",
       "    if(typeof define === \"function\" && define.amd) {\n",
       "      requirejs.config({paths});\n",
       "      require([\"vega-embed\"], displayChart, err => showError(`Error loading script: ${err.message}`));\n",
       "    } else if (typeof vegaEmbed === \"function\") {\n",
       "      displayChart(vegaEmbed);\n",
       "    } else {\n",
       "      loadScript(\"vega\")\n",
       "        .then(() => loadScript(\"vega-lite\"))\n",
       "        .then(() => loadScript(\"vega-embed\"))\n",
       "        .catch(showError)\n",
       "        .then(() => displayChart(vegaEmbed));\n",
       "    }\n",
       "  })({\"config\": {\"title\": {\"font\": \"Roboto\", \"color\": \"#44475A\"}, \"axisX\": {\"labelFont\": \"Roboto\", \"titleFont\": \"Roboto\", \"gridColor\": \"#EBEBEB\", \"labelColor\": \"#44475A\", \"tickColor\": \"#44475A\", \"titleColor\": \"#44475A\", \"domainColor\": \"#44475A\", \"labelAngle\": 0}, \"axisY\": {\"labelFont\": \"Roboto\", \"titleFont\": \"Roboto\", \"gridColor\": \"#EBEBEB\", \"labelColor\": \"#44475A\", \"tickColor\": \"#44475A\", \"titleColor\": \"#44475A\", \"domainColor\": \"#44475A\"}, \"header\": {\"labelFont\": \"Roboto\", \"titleFont\": \"Roboto\", \"labelColor\": \"#44475A\", \"titleColor\": \"#44475A\"}, \"legend\": {\"labelFont\": \"Roboto\", \"titleFont\": \"Roboto\", \"labelColor\": \"#44475A\", \"titleColor\": \"#44475A\"}, \"text\": {\"color\": \"#44475A\"}, \"rule\": {\"color\": \"#44475A\"}, \"background\": \"#FFFFFF\", \"view\": {\"fill\": \"#FFFFFF\"}}, \"layer\": [{\"mark\": {\"type\": \"bar\", \"color\": \"#707070\", \"size\": 45.0}, \"encoding\": {\"color\": {\"type\": \"nominal\", \"field\": \"to_color\", \"legend\": {\"title\": \"Part\"}, \"scale\": {\"domain\": [\"Exponent\", \"Mantissa\"], \"range\": [\"#707070\", \"#F3852A\"]}}, \"opacity\": {\"condition\": {\"value\": 1, \"selection\": \"selector002\"}, \"value\": 0.2}, \"tooltip\": [{\"type\": \"nominal\", \"field\": \"category\", \"title\": \"Category\"}, {\"type\": \"quantitative\", \"field\": \"exponent\", \"title\": \"Exponent\"}, {\"type\": \"nominal\", \"field\": \"original\", \"title\": \"Value\"}], \"x\": {\"type\": \"nominal\", \"axis\": {\"title\": \"Category\"}, \"field\": \"category\"}, \"y\": {\"type\": \"quantitative\", \"axis\": {\"title\": null}, \"field\": \"exponent\", \"scale\": {\"domain\": [0, 10]}}}, \"selection\": {\"selector002\": {\"type\": \"single\", \"fields\": [\"to_color\"], \"bind\": \"legend\"}}, \"transform\": [{\"calculate\": \"'Exponent'\", \"as\": \"to_color\"}]}, {\"mark\": {\"type\": \"bar\", \"color\": \"#F3852A\", \"size\": 9.0}, \"encoding\": {\"color\": {\"type\": \"nominal\", \"field\": \"to_color\"}, \"opacity\": {\"condition\": {\"value\": 1, \"selection\": \"selector002\"}, \"value\": 0.2}, \"tooltip\": [{\"type\": \"nominal\", \"field\": \"category\", \"title\": \"Category\"}, {\"type\": \"quantitative\", \"field\": \"mantissa\", \"title\": \"Mantissa\"}, {\"type\": \"nominal\", \"field\": \"original\", \"title\": \"Value\"}], \"x\": {\"type\": \"nominal\", \"field\": \"category\"}, \"y\": {\"type\": \"quantitative\", \"field\": \"mantissa\"}}, \"selection\": {\"selector003\": {\"type\": \"single\"}}, \"transform\": [{\"calculate\": \"'Mantissa'\", \"as\": \"to_color\"}]}], \"data\": {\"name\": \"data-d10faf5f216f8e4b3bcace66d581db45\"}, \"height\": 400, \"title\": {\"text\": \"Order of Magnitude Markers\", \"anchor\": \"start\"}, \"width\": 400, \"$schema\": \"https://vega.github.io/schema/vega-lite/v4.8.1.json\", \"datasets\": {\"data-d10faf5f216f8e4b3bcace66d581db45\": [{\"category\": \"A\", \"value\": 1, \"scale\": 1, \"mantissa\": 1.0, \"exponent\": 0, \"multiplier\": 1, \"end\": 10, \"start\": 0, \"middle\": 5.0, \"original\": \"1 = 1 \\u00d7 10\\u2070\"}, {\"category\": \"B\", \"value\": 600, \"scale\": 1000, \"mantissa\": 6.0, \"exponent\": 2, \"multiplier\": 100, \"end\": 40, \"start\": 10, \"middle\": 25.0, \"original\": \"600 = 6 \\u00d7 10\\u00b2\"}, {\"category\": \"C\", \"value\": 6000, \"scale\": 10000, \"mantissa\": 6.0, \"exponent\": 3, \"multiplier\": 1000, \"end\": 80, \"start\": 40, \"middle\": 60.0, \"original\": \"6,000 = 6 \\u00d7 10\\u00b3\"}, {\"category\": \"D\", \"value\": 300, \"scale\": 1000, \"mantissa\": 3.0, \"exponent\": 2, \"multiplier\": 100, \"end\": 110, \"start\": 80, \"middle\": 95.0, \"original\": \"300 = 3 \\u00d7 10\\u00b2\"}, {\"category\": \"E\", \"value\": 10, \"scale\": 10, \"mantissa\": 1.0, \"exponent\": 1, \"multiplier\": 10, \"end\": 130, \"start\": 110, \"middle\": 120.0, \"original\": \"10 = 1 \\u00d7 10\\u00b9\"}, {\"category\": \"F\", \"value\": 1000, \"scale\": 1000, \"mantissa\": 1.0, \"exponent\": 3, \"multiplier\": 1000, \"end\": 170, \"start\": 130, \"middle\": 150.0, \"original\": \"1,000 = 1 \\u00d7 10\\u00b3\"}, {\"category\": \"G\", \"value\": 80, \"scale\": 100, \"mantissa\": 8.0, \"exponent\": 1, \"multiplier\": 10, \"end\": 190, \"start\": 170, \"middle\": 180.0, \"original\": \"80 = 8 \\u00d7 10\\u00b9\"}, {\"category\": \"H\", \"value\": 4, \"scale\": 10, \"mantissa\": 4.0, \"exponent\": 0, \"multiplier\": 1, \"end\": 200, \"start\": 190, \"middle\": 195.0, \"original\": \"4 = 4 \\u00d7 10\\u2070\"}]}}, {\"actions\": {\"export\": true, \"source\": false, \"compiled\": false, \"editor\": true}, \"scaleFactor\": 5, \"i18n\": {\"PNG_ACTION\": \"Save as PNG\", \"SVG_ACTION\": \"Save as SVG\"}, \"tooltip\": {\"theme\": \"lcontrast\"}, \"renderer\": \"svg\", \"formatLocale\": {\"decimal\": \".\", \"thousands\": \",\", \"grouping\": [3], \"currency\": [\"\", \"\\u20ac\"]}, \"mode\": \"vega-lite\"});\n",
       "</script>"
      ],
      "text/plain": [
       "alt.LayerChart(...)"
      ]
     },
     "execution_count": 7,
     "metadata": {},
     "output_type": "execute_result"
    }
   ],
   "source": [
    "omm_chart(data)"
   ]
  },
  {
   "cell_type": "code",
   "execution_count": 8,
   "metadata": {
    "slideshow": {
     "slide_type": "slide"
    }
   },
   "outputs": [
    {
     "data": {
      "text/html": [
       "\n",
       "<div id=\"altair-viz-c8aa839de3924b36b51fd87274708ce5\"></div>\n",
       "<script type=\"text/javascript\">\n",
       "  (function(spec, embedOpt){\n",
       "    let outputDiv = document.currentScript.previousElementSibling;\n",
       "    if (outputDiv.id !== \"altair-viz-c8aa839de3924b36b51fd87274708ce5\") {\n",
       "      outputDiv = document.getElementById(\"altair-viz-c8aa839de3924b36b51fd87274708ce5\");\n",
       "    }\n",
       "    const paths = {\n",
       "      \"vega\": \"https://cdn.jsdelivr.net/npm//vega@5?noext\",\n",
       "      \"vega-lib\": \"https://cdn.jsdelivr.net/npm//vega-lib?noext\",\n",
       "      \"vega-lite\": \"https://cdn.jsdelivr.net/npm//vega-lite@4.8.1?noext\",\n",
       "      \"vega-embed\": \"https://cdn.jsdelivr.net/npm//vega-embed@6?noext\",\n",
       "    };\n",
       "\n",
       "    function loadScript(lib) {\n",
       "      return new Promise(function(resolve, reject) {\n",
       "        var s = document.createElement('script');\n",
       "        s.src = paths[lib];\n",
       "        s.async = true;\n",
       "        s.onload = () => resolve(paths[lib]);\n",
       "        s.onerror = () => reject(`Error loading script: ${paths[lib]}`);\n",
       "        document.getElementsByTagName(\"head\")[0].appendChild(s);\n",
       "      });\n",
       "    }\n",
       "\n",
       "    function showError(err) {\n",
       "      outputDiv.innerHTML = `<div class=\"error\" style=\"color:red;\">${err}</div>`;\n",
       "      throw err;\n",
       "    }\n",
       "\n",
       "    function displayChart(vegaEmbed) {\n",
       "      vegaEmbed(outputDiv, spec, embedOpt)\n",
       "        .catch(err => showError(`Javascript Error: ${err.message}<br>This usually means there's a typo in your chart specification. See the javascript console for the full traceback.`));\n",
       "    }\n",
       "\n",
       "    if(typeof define === \"function\" && define.amd) {\n",
       "      requirejs.config({paths});\n",
       "      require([\"vega-embed\"], displayChart, err => showError(`Error loading script: ${err.message}`));\n",
       "    } else if (typeof vegaEmbed === \"function\") {\n",
       "      displayChart(vegaEmbed);\n",
       "    } else {\n",
       "      loadScript(\"vega\")\n",
       "        .then(() => loadScript(\"vega-lite\"))\n",
       "        .then(() => loadScript(\"vega-embed\"))\n",
       "        .catch(showError)\n",
       "        .then(() => displayChart(vegaEmbed));\n",
       "    }\n",
       "  })({\"config\": {\"title\": {\"font\": \"Roboto\", \"color\": \"#44475A\"}, \"axisX\": {\"labelFont\": \"Roboto\", \"titleFont\": \"Roboto\", \"gridColor\": \"#EBEBEB\", \"labelColor\": \"#44475A\", \"tickColor\": \"#44475A\", \"titleColor\": \"#44475A\", \"domainColor\": \"#44475A\", \"labelAngle\": 0}, \"axisY\": {\"labelFont\": \"Roboto\", \"titleFont\": \"Roboto\", \"gridColor\": \"#EBEBEB\", \"labelColor\": \"#44475A\", \"tickColor\": \"#44475A\", \"titleColor\": \"#44475A\", \"domainColor\": \"#44475A\"}, \"header\": {\"labelFont\": \"Roboto\", \"titleFont\": \"Roboto\", \"labelColor\": \"#44475A\", \"titleColor\": \"#44475A\"}, \"legend\": {\"labelFont\": \"Roboto\", \"titleFont\": \"Roboto\", \"labelColor\": \"#44475A\", \"titleColor\": \"#44475A\"}, \"text\": {\"color\": \"#44475A\"}, \"rule\": {\"color\": \"#44475A\"}, \"background\": \"#FFFFFF\", \"view\": {\"fill\": \"#FFFFFF\"}}, \"vconcat\": [{\"layer\": [{\"mark\": {\"type\": \"bar\", \"color\": \"#F3852A\"}, \"encoding\": {\"tooltip\": [{\"type\": \"nominal\", \"field\": \"category\", \"title\": \"Category\"}, {\"type\": \"quantitative\", \"field\": \"value\", \"format\": \",\", \"title\": \"Value\"}], \"x\": {\"type\": \"nominal\", \"axis\": {\"labels\": false, \"ticks\": false, \"title\": null, \"zindex\": 2}, \"field\": \"category\", \"scale\": {\"domain\": [\"A\", \"B\", \"C\", \"D\", \"E\", \"F\", \"G\", \"H\"]}}, \"y\": {\"type\": \"quantitative\", \"axis\": {\"labels\": false, \"tickCount\": 10, \"ticks\": false, \"title\": \"[0, 10,000)\", \"titleAlign\": \"right\", \"titleAnchor\": \"middle\", \"titleAngle\": 0, \"titleBaseline\": \"middle\"}, \"field\": \"value\", \"scale\": {\"domain\": [0, 10000]}}}, \"height\": 100.0, \"transform\": [{\"filter\": \"(datum.value < 10000)\"}], \"width\": 400}, {\"mark\": {\"type\": \"rule\", \"strokeDash\": [4, 1], \"xOffset\": 0.5}, \"encoding\": {\"x\": {\"type\": \"nominal\", \"field\": \"category\"}}, \"transform\": [{\"filter\": \"(datum.value >= 10000)\"}]}]}, {\"layer\": [{\"mark\": {\"type\": \"bar\", \"color\": \"#F3852A\"}, \"encoding\": {\"tooltip\": [{\"type\": \"nominal\", \"field\": \"category\", \"title\": \"Category\"}, {\"type\": \"quantitative\", \"field\": \"value\", \"format\": \",\", \"title\": \"Value\"}], \"x\": {\"type\": \"nominal\", \"axis\": {\"labels\": false, \"ticks\": false, \"title\": null, \"zindex\": 2}, \"field\": \"category\", \"scale\": {\"domain\": [\"A\", \"B\", \"C\", \"D\", \"E\", \"F\", \"G\", \"H\"]}}, \"y\": {\"type\": \"quantitative\", \"axis\": {\"labels\": false, \"tickCount\": 10, \"ticks\": false, \"title\": \"[0, 1,000)\", \"titleAlign\": \"right\", \"titleAnchor\": \"middle\", \"titleAngle\": 0, \"titleBaseline\": \"middle\"}, \"field\": \"value\", \"scale\": {\"domain\": [0, 1000]}}}, \"height\": 100.0, \"transform\": [{\"filter\": \"(datum.value < 1000)\"}], \"width\": 400}, {\"mark\": {\"type\": \"rule\", \"strokeDash\": [4, 1], \"xOffset\": 0.5}, \"encoding\": {\"x\": {\"type\": \"nominal\", \"field\": \"category\"}}, \"transform\": [{\"filter\": \"(datum.value >= 1000)\"}]}, {\"mark\": {\"type\": \"rule\", \"yOffset\": 0.5}, \"encoding\": {\"y\": {\"value\": 0}}}]}, {\"layer\": [{\"mark\": {\"type\": \"bar\", \"color\": \"#F3852A\"}, \"encoding\": {\"tooltip\": [{\"type\": \"nominal\", \"field\": \"category\", \"title\": \"Category\"}, {\"type\": \"quantitative\", \"field\": \"value\", \"format\": \",\", \"title\": \"Value\"}], \"x\": {\"type\": \"nominal\", \"axis\": {\"labels\": false, \"ticks\": false, \"title\": null, \"zindex\": 2}, \"field\": \"category\", \"scale\": {\"domain\": [\"A\", \"B\", \"C\", \"D\", \"E\", \"F\", \"G\", \"H\"]}}, \"y\": {\"type\": \"quantitative\", \"axis\": {\"labels\": false, \"tickCount\": 10, \"ticks\": false, \"title\": \"[0, 100)\", \"titleAlign\": \"right\", \"titleAnchor\": \"middle\", \"titleAngle\": 0, \"titleBaseline\": \"middle\"}, \"field\": \"value\", \"scale\": {\"domain\": [0, 100]}}}, \"height\": 100.0, \"transform\": [{\"filter\": \"(datum.value < 100)\"}], \"width\": 400}, {\"mark\": {\"type\": \"rule\", \"strokeDash\": [4, 1], \"xOffset\": 0.5}, \"encoding\": {\"x\": {\"type\": \"nominal\", \"field\": \"category\"}}, \"transform\": [{\"filter\": \"(datum.value >= 100)\"}]}, {\"mark\": {\"type\": \"rule\", \"yOffset\": 0.5}, \"encoding\": {\"y\": {\"value\": 0}}}]}, {\"layer\": [{\"mark\": {\"type\": \"bar\", \"color\": \"#F3852A\"}, \"encoding\": {\"tooltip\": [{\"type\": \"nominal\", \"field\": \"category\", \"title\": \"Category\"}, {\"type\": \"quantitative\", \"field\": \"value\", \"format\": \",\", \"title\": \"Value\"}], \"x\": {\"type\": \"nominal\", \"axis\": {\"labels\": true, \"ticks\": true, \"title\": \"Category\", \"zindex\": 2}, \"field\": \"category\", \"scale\": {\"domain\": [\"A\", \"B\", \"C\", \"D\", \"E\", \"F\", \"G\", \"H\"]}}, \"y\": {\"type\": \"quantitative\", \"axis\": {\"labels\": false, \"tickCount\": 10, \"ticks\": false, \"title\": \"[0, 10)\", \"titleAlign\": \"right\", \"titleAnchor\": \"middle\", \"titleAngle\": 0, \"titleBaseline\": \"middle\"}, \"field\": \"value\", \"scale\": {\"domain\": [0, 10]}}}, \"height\": 100.0, \"transform\": [{\"filter\": \"(datum.value < 10)\"}], \"width\": 400}, {\"mark\": {\"type\": \"rule\", \"strokeDash\": [4, 1], \"xOffset\": 0.5}, \"encoding\": {\"x\": {\"type\": \"nominal\", \"field\": \"category\"}}, \"transform\": [{\"filter\": \"(datum.value >= 10)\"}]}, {\"mark\": {\"type\": \"rule\", \"yOffset\": 0.5}, \"encoding\": {\"y\": {\"value\": 0}}}]}], \"bounds\": \"flush\", \"data\": {\"name\": \"data-d10faf5f216f8e4b3bcace66d581db45\"}, \"spacing\": 0, \"title\": \"Scale-Stack Bar Chart\", \"$schema\": \"https://vega.github.io/schema/vega-lite/v4.8.1.json\", \"datasets\": {\"data-d10faf5f216f8e4b3bcace66d581db45\": [{\"category\": \"A\", \"value\": 1, \"scale\": 1, \"mantissa\": 1.0, \"exponent\": 0, \"multiplier\": 1, \"end\": 10, \"start\": 0, \"middle\": 5.0, \"original\": \"1 = 1 \\u00d7 10\\u2070\"}, {\"category\": \"B\", \"value\": 600, \"scale\": 1000, \"mantissa\": 6.0, \"exponent\": 2, \"multiplier\": 100, \"end\": 40, \"start\": 10, \"middle\": 25.0, \"original\": \"600 = 6 \\u00d7 10\\u00b2\"}, {\"category\": \"C\", \"value\": 6000, \"scale\": 10000, \"mantissa\": 6.0, \"exponent\": 3, \"multiplier\": 1000, \"end\": 80, \"start\": 40, \"middle\": 60.0, \"original\": \"6,000 = 6 \\u00d7 10\\u00b3\"}, {\"category\": \"D\", \"value\": 300, \"scale\": 1000, \"mantissa\": 3.0, \"exponent\": 2, \"multiplier\": 100, \"end\": 110, \"start\": 80, \"middle\": 95.0, \"original\": \"300 = 3 \\u00d7 10\\u00b2\"}, {\"category\": \"E\", \"value\": 10, \"scale\": 10, \"mantissa\": 1.0, \"exponent\": 1, \"multiplier\": 10, \"end\": 130, \"start\": 110, \"middle\": 120.0, \"original\": \"10 = 1 \\u00d7 10\\u00b9\"}, {\"category\": \"F\", \"value\": 1000, \"scale\": 1000, \"mantissa\": 1.0, \"exponent\": 3, \"multiplier\": 1000, \"end\": 170, \"start\": 130, \"middle\": 150.0, \"original\": \"1,000 = 1 \\u00d7 10\\u00b3\"}, {\"category\": \"G\", \"value\": 80, \"scale\": 100, \"mantissa\": 8.0, \"exponent\": 1, \"multiplier\": 10, \"end\": 190, \"start\": 170, \"middle\": 180.0, \"original\": \"80 = 8 \\u00d7 10\\u00b9\"}, {\"category\": \"H\", \"value\": 4, \"scale\": 10, \"mantissa\": 4.0, \"exponent\": 0, \"multiplier\": 1, \"end\": 200, \"start\": 190, \"middle\": 195.0, \"original\": \"4 = 4 \\u00d7 10\\u2070\"}]}}, {\"actions\": {\"export\": true, \"source\": false, \"compiled\": false, \"editor\": true}, \"scaleFactor\": 5, \"i18n\": {\"PNG_ACTION\": \"Save as PNG\", \"SVG_ACTION\": \"Save as SVG\"}, \"tooltip\": {\"theme\": \"lcontrast\"}, \"renderer\": \"svg\", \"formatLocale\": {\"decimal\": \".\", \"thousands\": \",\", \"grouping\": [3], \"currency\": [\"\", \"\\u20ac\"]}, \"mode\": \"vega-lite\"});\n",
       "</script>"
      ],
      "text/plain": [
       "alt.VConcatChart(...)"
      ]
     },
     "execution_count": 8,
     "metadata": {},
     "output_type": "execute_result"
    }
   ],
   "source": [
    "ssb_chart(data)"
   ]
  },
  {
   "cell_type": "markdown",
   "metadata": {
    "slideshow": {
     "slide_type": "slide"
    }
   },
   "source": [
    "# 📝 Evaluation\n",
    "\n",
    "- Data: $0 < e \\leq 4$\n",
    "- Number of participants: 136 (-21 = 115)\n",
    "- Between-subject study: 1 design × 4 tasks × 6 repetitions = 24 tasks per participant\n",
    "- Metrics: log error ($e_{log} = log_{10}(\\frac{response_{v}}{encoded_{v}})$) for the _Value_ and _Ratio_ tasks, binary error ($1 - accuracy$) for the _Sort_ and _Trend_ tasks, and response time"
   ]
  },
  {
   "cell_type": "code",
   "execution_count": 9,
   "metadata": {
    "slideshow": {
     "slide_type": "slide"
    }
   },
   "outputs": [
    {
     "data": {
      "text/html": [
       "\n",
       "<div id=\"altair-viz-43dbac3edae04553b6ff25f7ed1351b3\"></div>\n",
       "<script type=\"text/javascript\">\n",
       "  (function(spec, embedOpt){\n",
       "    let outputDiv = document.currentScript.previousElementSibling;\n",
       "    if (outputDiv.id !== \"altair-viz-43dbac3edae04553b6ff25f7ed1351b3\") {\n",
       "      outputDiv = document.getElementById(\"altair-viz-43dbac3edae04553b6ff25f7ed1351b3\");\n",
       "    }\n",
       "    const paths = {\n",
       "      \"vega\": \"https://cdn.jsdelivr.net/npm//vega@5?noext\",\n",
       "      \"vega-lib\": \"https://cdn.jsdelivr.net/npm//vega-lib?noext\",\n",
       "      \"vega-lite\": \"https://cdn.jsdelivr.net/npm//vega-lite@4.8.1?noext\",\n",
       "      \"vega-embed\": \"https://cdn.jsdelivr.net/npm//vega-embed@6?noext\",\n",
       "    };\n",
       "\n",
       "    function loadScript(lib) {\n",
       "      return new Promise(function(resolve, reject) {\n",
       "        var s = document.createElement('script');\n",
       "        s.src = paths[lib];\n",
       "        s.async = true;\n",
       "        s.onload = () => resolve(paths[lib]);\n",
       "        s.onerror = () => reject(`Error loading script: ${paths[lib]}`);\n",
       "        document.getElementsByTagName(\"head\")[0].appendChild(s);\n",
       "      });\n",
       "    }\n",
       "\n",
       "    function showError(err) {\n",
       "      outputDiv.innerHTML = `<div class=\"error\" style=\"color:red;\">${err}</div>`;\n",
       "      throw err;\n",
       "    }\n",
       "\n",
       "    function displayChart(vegaEmbed) {\n",
       "      vegaEmbed(outputDiv, spec, embedOpt)\n",
       "        .catch(err => showError(`Javascript Error: ${err.message}<br>This usually means there's a typo in your chart specification. See the javascript console for the full traceback.`));\n",
       "    }\n",
       "\n",
       "    if(typeof define === \"function\" && define.amd) {\n",
       "      requirejs.config({paths});\n",
       "      require([\"vega-embed\"], displayChart, err => showError(`Error loading script: ${err.message}`));\n",
       "    } else if (typeof vegaEmbed === \"function\") {\n",
       "      displayChart(vegaEmbed);\n",
       "    } else {\n",
       "      loadScript(\"vega\")\n",
       "        .then(() => loadScript(\"vega-lite\"))\n",
       "        .then(() => loadScript(\"vega-embed\"))\n",
       "        .catch(showError)\n",
       "        .then(() => displayChart(vegaEmbed));\n",
       "    }\n",
       "  })({\"config\": {\"title\": {\"font\": \"Roboto\", \"color\": \"#44475A\"}, \"axisX\": {\"labelFont\": \"Roboto\", \"titleFont\": \"Roboto\", \"gridColor\": \"#EBEBEB\", \"labelColor\": \"#44475A\", \"tickColor\": \"#44475A\", \"titleColor\": \"#44475A\", \"domainColor\": \"#44475A\", \"labelAngle\": 0}, \"axisY\": {\"labelFont\": \"Roboto\", \"titleFont\": \"Roboto\", \"gridColor\": \"#EBEBEB\", \"labelColor\": \"#44475A\", \"tickColor\": \"#44475A\", \"titleColor\": \"#44475A\", \"domainColor\": \"#44475A\"}, \"header\": {\"labelFont\": \"Roboto\", \"titleFont\": \"Roboto\", \"labelColor\": \"#44475A\", \"titleColor\": \"#44475A\"}, \"legend\": {\"labelFont\": \"Roboto\", \"titleFont\": \"Roboto\", \"labelColor\": \"#44475A\", \"titleColor\": \"#44475A\"}, \"text\": {\"color\": \"#44475A\"}, \"rule\": {\"color\": \"#44475A\"}, \"background\": \"#FFFFFF\", \"view\": {\"fill\": \"#FFFFFF\", \"strokeWidth\": 0}}, \"data\": {\"name\": \"data-ea3d472cbe2d73c5eefecce866e04ce1\"}, \"mark\": \"bar\", \"encoding\": {\"color\": {\"type\": \"nominal\", \"field\": \"label\", \"legend\": {\"labelLimit\": 200}, \"title\": null}, \"x\": {\"type\": \"nominal\", \"axis\": {\"labels\": false, \"ticks\": false, \"title\": null}, \"field\": \"category\", \"scale\": {\"domain\": [\"encoded\", \"low\", \"high\"]}}, \"y\": {\"type\": \"quantitative\", \"axis\": {\"domain\": false, \"ticks\": false}, \"field\": \"v\"}}, \"height\": 400, \"width\": 400, \"$schema\": \"https://vega.github.io/schema/vega-lite/v4.8.1.json\", \"datasets\": {\"data-ea3d472cbe2d73c5eefecce866e04ce1\": [{\"v\": 10, \"category\": \"encoded\", \"label\": \"encoded value\"}, {\"v\": 1, \"category\": \"low\", \"label\": \"log(1/10) = -1 \\u2192 too low, exponent error\"}, {\"v\": 15, \"category\": \"high\", \"label\": \"log(15/10) = 0.18 \\u2192 too high, mantissa error\"}]}}, {\"actions\": {\"export\": true, \"source\": false, \"compiled\": false, \"editor\": true}, \"scaleFactor\": 5, \"i18n\": {\"PNG_ACTION\": \"Save as PNG\", \"SVG_ACTION\": \"Save as SVG\"}, \"tooltip\": {\"theme\": \"lcontrast\"}, \"renderer\": \"svg\", \"formatLocale\": {\"decimal\": \".\", \"thousands\": \",\", \"grouping\": [3], \"currency\": [\"\", \"\\u20ac\"]}, \"mode\": \"vega-lite\"});\n",
       "</script>"
      ],
      "text/plain": [
       "alt.Chart(...)"
      ]
     },
     "execution_count": 9,
     "metadata": {},
     "output_type": "execute_result"
    }
   ],
   "source": [
    "show_log_error()"
   ]
  },
  {
   "cell_type": "markdown",
   "metadata": {
    "slideshow": {
     "slide_type": "slide"
    }
   },
   "source": [
    "\n",
    "# 📝 Evaluation\n",
    "\n",
    "**Tasks**:\n",
    "\n",
    "- Value: \"read the value\"\n",
    "- Sort: \"sort all values in ascending order\"\n",
    "- Ratio: \"determine the ratio of two values\"\n",
    "- Trend: \"identify the trend in the data from the choice of linear, a logarithmic or an exponential, or none\""
   ]
  },
  {
   "cell_type": "markdown",
   "metadata": {
    "slideshow": {
     "slide_type": "slide"
    }
   },
   "source": [
    "# Let's take a look..."
   ]
  },
  {
   "cell_type": "markdown",
   "metadata": {
    "slideshow": {
     "slide_type": "slide"
    }
   },
   "source": [
    "<figure>\n",
    "  <img src=\"study-results-hohn_et_al_2020.png\" alt=\"Evaluation results\" style=\"width:95%\">\n",
    "  <figcaption>Source: Höhn et al., 2020</figcaption>\n",
    "</figure>"
   ]
  },
  {
   "cell_type": "markdown",
   "metadata": {
    "slideshow": {
     "slide_type": "slide"
    }
   },
   "source": [
    "# 💯 Results\n",
    "\n",
    "Ranking:\n",
    "\n",
    "- Value: **WSB**≺LOG≺OMM≼LIN≺SSB\n",
    "- Sort: SSB≼**WSB**≼LOG≼OMM≺LIN\n",
    "- Ratio: SSB≼**WSB**≺LOG≼OMM≺LIN\n",
    "- Trend: LIN≼SSB≺**WSB**≺OMM≼LOG"
   ]
  },
  {
   "cell_type": "markdown",
   "metadata": {
    "slideshow": {
     "slide_type": "slide"
    }
   },
   "source": [
    "# Thanks! 📊\n",
    "\n",
    "The Width-Scale Bar Chart is an alternative to the typical bar chart to visualize data with a wide value/bar height range.\n",
    "\n",
    "- [Paper](https://diglib.eg.org/handle/10.2312/evs20201056)\n",
    "- [Presentation @EGEV2020](https://youtu.be/edIPfDIH1p0?t=1064)\n",
    "- [Order of Magnitude Markers paper](http://cs.swan.ac.uk/~csmark/publications/2014_Order_of_Magnitude_Markers.html)\n",
    "- [Scale-Stack Bar Chart paper](https://www.researchgate.net/publication/263008873_Scale-Stack_Bar_Charts)"
   ]
  }
 ],
 "metadata": {
  "celltoolbar": "Slideshow",
  "kernelspec": {
   "display_name": "Python 3",
   "language": "python",
   "name": "python3"
  },
  "language_info": {
   "codemirror_mode": {
    "name": "ipython",
    "version": 3
   },
   "file_extension": ".py",
   "mimetype": "text/x-python",
   "name": "python",
   "nbconvert_exporter": "python",
   "pygments_lexer": "ipython3",
   "version": "3.6.10"
  },
  "rise": {
   "auto_select": "none",
   "controls": false,
   "enable_chalkboard": false,
   "slideNumber": "c/t"
  }
 },
 "nbformat": 4,
 "nbformat_minor": 4
}
