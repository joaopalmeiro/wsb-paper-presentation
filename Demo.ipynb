{
 "cells": [
  {
   "cell_type": "code",
   "execution_count": null,
   "metadata": {},
   "outputs": [],
   "source": [
    "%load_ext autoreload\n",
    "%autoreload 2\n",
    "\n",
    "from utils import load_data\n",
    "from charts import ssb_chart\n",
    "from theme import set_alt_aesthetic"
   ]
  },
  {
   "cell_type": "code",
   "execution_count": null,
   "metadata": {},
   "outputs": [],
   "source": [
    "set_alt_aesthetic()"
   ]
  },
  {
   "cell_type": "code",
   "execution_count": null,
   "metadata": {},
   "outputs": [],
   "source": [
    "data = load_data(show_unicode=True)\n",
    "data"
   ]
  },
  {
   "cell_type": "code",
   "execution_count": null,
   "metadata": {},
   "outputs": [],
   "source": [
    "ssb_chart(data)"
   ]
  },
  {
   "cell_type": "code",
   "execution_count": null,
   "metadata": {},
   "outputs": [],
   "source": [
    "import altair as alt\n",
    "\n",
    "\n",
    "def omm_chart(\n",
    "    data,\n",
    "    xvar=\"category\",\n",
    "    e_yvar=\"exponent\",\n",
    "    m_yvar=\"mantissa\",\n",
    "    v_var=\"original\",\n",
    "    w=400,\n",
    "    h=400,\n",
    "    m_color=\"#FA7051\",\n",
    "    e_color=\"#707070\",\n",
    "    title=\"Order of Magnitude Markers\",\n",
    "):\n",
    "    _n_bars = len(data[xvar].unique())\n",
    "    \n",
    "    # Default `bandPaddingInner` = 0.1\n",
    "    # More info: https://altair-viz.github.io/user_guide/configuration.html#scale-configuration\n",
    "    _e_bar_width = (w / _n_bars) - ((w / _n_bars) * 0.1)\n",
    "    _m_bar_width = _e_bar_width / 5\n",
    "    \n",
    "    base = alt.Chart(data)\n",
    "\n",
    "    e_bar = base.mark_bar(color=e_color, size=_e_bar_width).encode(\n",
    "        x=alt.X(f\"{xvar}:N\", axis=alt.Axis(title=xvar.capitalize())),\n",
    "        y=alt.Y(\n",
    "            f\"{e_yvar}:Q\", axis=alt.Axis(title=None), scale=alt.Scale(domain=[0, 10])\n",
    "        ),\n",
    "        tooltip=[\n",
    "            alt.Tooltip(f\"{xvar}:N\", title=xvar.capitalize()),\n",
    "            alt.Tooltip(f\"{e_yvar}:Q\", title=e_yvar.capitalize()),\n",
    "            alt.Tooltip(f\"{v_var}:N\", title=\"Value\"),\n",
    "        ],\n",
    "    )\n",
    "\n",
    "    m_bar = base.mark_bar(color=m_color, size=_m_bar_width).encode(\n",
    "        x=alt.X(f\"{xvar}:N\"),\n",
    "        y=alt.Y(f\"{m_yvar}:Q\"),\n",
    "        tooltip=[\n",
    "            alt.Tooltip(f\"{xvar}:N\", title=xvar.capitalize()),\n",
    "            alt.Tooltip(f\"{m_yvar}:Q\", title=m_yvar.capitalize()),\n",
    "            alt.Tooltip(f\"{v_var}:N\", title=\"Value\"),\n",
    "        ],\n",
    "    )\n",
    "\n",
    "    return alt.layer(\n",
    "        e_bar, m_bar, title=alt.TitleParams(title, anchor=\"start\")\n",
    "    ).properties(width=w, height=h)\n",
    "\n",
    "\n",
    "omm_chart(data)"
   ]
  },
  {
   "cell_type": "code",
   "execution_count": null,
   "metadata": {},
   "outputs": [],
   "source": []
  }
 ],
 "metadata": {
  "kernelspec": {
   "display_name": "Python 3",
   "language": "python",
   "name": "python3"
  },
  "language_info": {
   "codemirror_mode": {
    "name": "ipython",
    "version": 3
   },
   "file_extension": ".py",
   "mimetype": "text/x-python",
   "name": "python",
   "nbconvert_exporter": "python",
   "pygments_lexer": "ipython3",
   "version": "3.6.10"
  }
 },
 "nbformat": 4,
 "nbformat_minor": 4
}
