{
 "cells": [
  {
   "cell_type": "code",
   "execution_count": null,
   "metadata": {},
   "outputs": [],
   "source": [
    "%load_ext autoreload\n",
    "%autoreload 2\n",
    "\n",
    "from utils import load_data\n",
    "from charts import ssb_chart\n",
    "from theme import set_alt_aesthetic"
   ]
  },
  {
   "cell_type": "code",
   "execution_count": null,
   "metadata": {},
   "outputs": [],
   "source": [
    "set_alt_aesthetic()"
   ]
  },
  {
   "cell_type": "code",
   "execution_count": null,
   "metadata": {},
   "outputs": [],
   "source": [
    "data = load_data(show_unicode=True)\n",
    "data"
   ]
  },
  {
   "cell_type": "code",
   "execution_count": null,
   "metadata": {},
   "outputs": [],
   "source": [
    "ssb_chart(data)"
   ]
  },
  {
   "cell_type": "code",
   "execution_count": null,
   "metadata": {},
   "outputs": [],
   "source": [
    "import altair as alt\n",
    "\n",
    "\n",
    "def omm_chart(\n",
    "    data,\n",
    "    xvar=\"category\",\n",
    "    e_yvar=\"exponent\",\n",
    "    m_yvar=\"mantissa\",\n",
    "    w=400,\n",
    "    h=400,\n",
    "    m_color=\"#FA7051\",\n",
    "    e_color=\"#707070\",\n",
    "    title=\"Order of Magnitude Markers\",\n",
    "):\n",
    "    base = alt.Chart(data)\n",
    "\n",
    "    e_bar = base.mark_bar(color=e_color).encode(x=alt.X(f\"{xvar}:N\"), y=alt.Y(f\"{e_yvar}:Q\"))\n",
    "    \n",
    "    m_bar = base.mark_bar(color=m_color, size=10).encode(x=alt.X(f\"{xvar}:N\"), y=alt.Y(f\"{m_yvar}:Q\"))\n",
    "\n",
    "    return alt.layer(e_bar, m_bar).properties(width=w, height=h)\n",
    "\n",
    "\n",
    "omm_chart(data)"
   ]
  },
  {
   "cell_type": "code",
   "execution_count": null,
   "metadata": {},
   "outputs": [],
   "source": []
  }
 ],
 "metadata": {
  "kernelspec": {
   "display_name": "Python 3",
   "language": "python",
   "name": "python3"
  },
  "language_info": {
   "codemirror_mode": {
    "name": "ipython",
    "version": 3
   },
   "file_extension": ".py",
   "mimetype": "text/x-python",
   "name": "python",
   "nbconvert_exporter": "python",
   "pygments_lexer": "ipython3",
   "version": "3.6.10"
  }
 },
 "nbformat": 4,
 "nbformat_minor": 4
}
